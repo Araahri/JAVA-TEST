{
 "cells": [
  {
   "cell_type": "markdown",
   "id": "254f435b-4c0e-4da6-b504-a0f8c2f9bc24",
   "metadata": {},
   "source": [
    "이름 : 김규범"
   ]
  },
  {
   "cell_type": "markdown",
   "id": "963c7954-6b1a-4e8d-a53e-03792b91dc99",
   "metadata": {},
   "source": [
    "학번 : 20210516"
   ]
  },
  {
   "cell_type": "markdown",
   "id": "e833d660-09eb-4fa4-a8ae-56910a14e348",
   "metadata": {},
   "source": [
    "깃허브 프로파일 링크 : https://github.com/Araahri"
   ]
  },
  {
   "cell_type": "code",
   "execution_count": 1,
   "id": "2e7e9d43-5cd4-4b47-a8e7-27069d5b1512",
   "metadata": {},
   "outputs": [
    {
     "name": "stdout",
     "output_type": "stream",
     "text": [
      "Araahri\n"
     ]
    }
   ],
   "source": [
    "%%bash\n",
    "echo $GITHUB_USER"
   ]
  },
  {
   "cell_type": "code",
   "execution_count": 2,
   "id": "3ec7ba4d-b094-4d7b-b1a5-fdcfa7432bec",
   "metadata": {},
   "outputs": [
    {
     "name": "stdout",
     "output_type": "stream",
     "text": [
      "openjdk 22.0.2 2024-07-16\n",
      "OpenJDK Runtime Environment Temurin-22.0.2+9 (build 22.0.2+9)\n",
      "OpenJDK 64-Bit Server VM Temurin-22.0.2+9 (build 22.0.2+9, mixed mode, sharing)\n"
     ]
    }
   ],
   "source": [
    "%%bash\n",
    "java --version"
   ]
  },
  {
   "cell_type": "code",
   "execution_count": 3,
   "id": "93ae0c55-1e2a-4e4d-8cd5-02d624d7883d",
   "metadata": {},
   "outputs": [
    {
     "data": {
      "text/plain": [
       "22.0.2+9"
      ]
     },
     "execution_count": 3,
     "metadata": {},
     "output_type": "execute_result"
    }
   ],
   "source": [
    "Runtime.version()"
   ]
  },
  {
   "cell_type": "code",
   "execution_count": null,
   "id": "e0aec0cd-5ea2-4f1d-b34f-b74740eef07d",
   "metadata": {},
   "outputs": [],
   "source": []
  }
 ],
 "metadata": {
  "kernelspec": {
   "display_name": "Java (rjk 2.1.0)",
   "language": "java",
   "name": "rapaio-jupyter-kernel"
  },
  "language_info": {
   "codemirror_mode": "java",
   "file_extension": ".jshell",
   "mimetype": "text/x-java-source",
   "name": "java",
   "nbconvert_exporter": "script",
   "pygments_lexer": "java",
   "version": "22.0.2+9"
  }
 },
 "nbformat": 4,
 "nbformat_minor": 5
}
